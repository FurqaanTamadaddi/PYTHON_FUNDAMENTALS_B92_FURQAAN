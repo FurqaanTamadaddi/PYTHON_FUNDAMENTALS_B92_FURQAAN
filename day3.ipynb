{
 "cells": [
  {
   "cell_type": "code",
   "execution_count": 14,
   "id": "f1b62d7a-f274-42ee-97fc-fa7b0562944a",
   "metadata": {},
   "outputs": [
    {
     "name": "stdout",
     "output_type": "stream",
     "text": [
      "furqaan\n"
     ]
    }
   ],
   "source": [
    "firstname = \"furqaan\"\n",
    "lastname =\"tamadaddi\"\n",
    "\n",
    "print(firstname)"
   ]
  },
  {
   "cell_type": "code",
   "execution_count": 18,
   "id": "601372dc-29d6-4ef7-9478-6da12720c4e4",
   "metadata": {},
   "outputs": [
    {
     "name": "stdout",
     "output_type": "stream",
     "text": [
      "furqaan tamadaddi\n"
     ]
    }
   ],
   "source": [
    "fullname = f\"{firstname} {lastname}\"\n",
    "print(fullname)"
   ]
  },
  {
   "cell_type": "code",
   "execution_count": 30,
   "id": "6d8b77e9-8a4b-4834-928b-16a0ea083cea",
   "metadata": {},
   "outputs": [
    {
     "name": "stdout",
     "output_type": "stream",
     "text": [
      "who is a good boy? ans:- furqaan tamadaddi\n"
     ]
    }
   ],
   "source": [
    "message = f\"who is a good boy? ans:- {fullname}\"\n",
    "\n",
    "print(message)"
   ]
  },
  {
   "cell_type": "code",
   "execution_count": 32,
   "id": "7ba12fa4-48a7-4ae5-aa0b-e137f8acca4c",
   "metadata": {},
   "outputs": [
    {
     "data": {
      "text/plain": [
       "str"
      ]
     },
     "execution_count": 32,
     "metadata": {},
     "output_type": "execute_result"
    }
   ],
   "source": [
    "type(message)"
   ]
  },
  {
   "cell_type": "code",
   "execution_count": 34,
   "id": "32a892cd-36bc-473b-9053-72dcde87b265",
   "metadata": {},
   "outputs": [
    {
     "name": "stdout",
     "output_type": "stream",
     "text": [
      "97000\n"
     ]
    }
   ],
   "source": [
    "number = \"97000\"\n",
    "print(number)"
   ]
  },
  {
   "cell_type": "code",
   "execution_count": 38,
   "id": "1233c0b0-e4f3-4b2d-8b9d-3ed8ec2b1fb8",
   "metadata": {},
   "outputs": [
    {
     "data": {
      "text/plain": [
       "str"
      ]
     },
     "execution_count": 38,
     "metadata": {},
     "output_type": "execute_result"
    }
   ],
   "source": [
    "type(number)"
   ]
  },
  {
   "cell_type": "code",
   "execution_count": 42,
   "id": "2dd4c503-6d24-4d8c-804f-901f23841e78",
   "metadata": {},
   "outputs": [
    {
     "name": "stdout",
     "output_type": "stream",
     "text": [
      "food-masaladosaidliwadaupmapoha\n"
     ]
    }
   ],
   "source": [
    "print(\"food-masaladosaidliwadaupmapoha\")"
   ]
  },
  {
   "cell_type": "code",
   "execution_count": 44,
   "id": "cfa45b8c-40cf-46e1-9783-33ebab6567e2",
   "metadata": {},
   "outputs": [
    {
     "name": "stdout",
     "output_type": "stream",
     "text": [
      "food-\n",
      "masaladosa\n",
      "idli\n",
      "wada\n",
      "upma\n",
      "poha\n"
     ]
    }
   ],
   "source": [
    "print(\"food-\\nmasaladosa\\nidli\\nwada\\nupma\\npoha\")"
   ]
  },
  {
   "cell_type": "code",
   "execution_count": 46,
   "id": "9380692b-b84a-407c-9d9d-f7e8d1ef13e4",
   "metadata": {},
   "outputs": [
    {
     "name": "stdout",
     "output_type": "stream",
     "text": [
      "food-\tmasaladosa\tidli\twada\tupma\tpoha\n"
     ]
    }
   ],
   "source": [
    "print(\"food-\\tmasaladosa\\tidli\\twada\\tupma\\tpoha\")"
   ]
  },
  {
   "cell_type": "code",
   "execution_count": 48,
   "id": "10641a02-0616-481a-b706-aba2dff51078",
   "metadata": {},
   "outputs": [
    {
     "name": "stdout",
     "output_type": "stream",
     "text": [
      "food-\t\n",
      "masaladosa\t\n",
      "idli\t\n",
      "wada\t\n",
      "upma\t\n",
      "poha\n"
     ]
    }
   ],
   "source": [
    "print(\"food-\\t\\nmasaladosa\\t\\nidli\\t\\nwada\\t\\nupma\\t\\npoha\")"
   ]
  },
  {
   "cell_type": "code",
   "execution_count": null,
   "id": "85fff46e-2518-47d9-b23f-17219bf01dca",
   "metadata": {},
   "outputs": [],
   "source": []
  }
 ],
 "metadata": {
  "kernelspec": {
   "display_name": "Python [conda env:base] *",
   "language": "python",
   "name": "conda-base-py"
  },
  "language_info": {
   "codemirror_mode": {
    "name": "ipython",
    "version": 3
   },
   "file_extension": ".py",
   "mimetype": "text/x-python",
   "name": "python",
   "nbconvert_exporter": "python",
   "pygments_lexer": "ipython3",
   "version": "3.12.7"
  }
 },
 "nbformat": 4,
 "nbformat_minor": 5
}
