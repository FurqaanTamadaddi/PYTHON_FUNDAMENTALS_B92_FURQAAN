{
 "cells": [
  {
   "cell_type": "code",
   "execution_count": 6,
   "id": "c0b2bf77-f529-48ad-9750-975ba112e40f",
   "metadata": {},
   "outputs": [
    {
     "name": "stdout",
     "output_type": "stream",
     "text": [
      "hello world, welcome to jungle\n"
     ]
    }
   ],
   "source": [
    "print(\"hello world, welcome to jungle\")"
   ]
  },
  {
   "cell_type": "code",
   "execution_count": 8,
   "id": "5accc0a8-050f-49b0-9cf0-e4366809ee61",
   "metadata": {},
   "outputs": [
    {
     "name": "stdout",
     "output_type": "stream",
     "text": [
      "furqan\n"
     ]
    }
   ],
   "source": [
    "first_name = 'furqan'\n",
    "print(first_name)"
   ]
  },
  {
   "cell_type": "code",
   "execution_count": 12,
   "id": "5894234f-ed6e-452c-b394-7ef6f70cdf47",
   "metadata": {},
   "outputs": [
    {
     "name": "stdout",
     "output_type": "stream",
     "text": [
      "<class 'str'>\n"
     ]
    }
   ],
   "source": [
    "print(type(first_name))"
   ]
  },
  {
   "cell_type": "code",
   "execution_count": 14,
   "id": "b3f31f1b-35dd-4d20-9ba0-2b441e95abca",
   "metadata": {},
   "outputs": [
    {
     "name": "stdout",
     "output_type": "stream",
     "text": [
      "974270\n"
     ]
    }
   ],
   "source": [
    "phone_no = 974270\n",
    "print(phone_no)"
   ]
  },
  {
   "cell_type": "code",
   "execution_count": 18,
   "id": "75a0e5ee-e42a-4dd4-8415-ca6933654b90",
   "metadata": {},
   "outputs": [
    {
     "name": "stdout",
     "output_type": "stream",
     "text": [
      "<class 'int'>\n"
     ]
    }
   ],
   "source": [
    "print(type(phone_no)) #these can be used as notes because it cannot be excuted when it has # in it"
   ]
  },
  {
   "cell_type": "code",
   "execution_count": null,
   "id": "4845b179-cf4c-4133-b978-308ea19e8d39",
   "metadata": {},
   "outputs": [],
   "source": []
  }
 ],
 "metadata": {
  "kernelspec": {
   "display_name": "Python [conda env:base] *",
   "language": "python",
   "name": "conda-base-py"
  },
  "language_info": {
   "codemirror_mode": {
    "name": "ipython",
    "version": 3
   },
   "file_extension": ".py",
   "mimetype": "text/x-python",
   "name": "python",
   "nbconvert_exporter": "python",
   "pygments_lexer": "ipython3",
   "version": "3.12.7"
  }
 },
 "nbformat": 4,
 "nbformat_minor": 5
}
