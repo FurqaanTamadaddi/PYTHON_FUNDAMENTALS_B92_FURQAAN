{
 "cells": [
  {
   "cell_type": "code",
   "execution_count": 2,
   "id": "a4a7c738-7c2d-4757-9177-023794ceaf7a",
   "metadata": {},
   "outputs": [],
   "source": [
    "brothers = ['amaan','affan','zakwan','abaan',]"
   ]
  },
  {
   "cell_type": "code",
   "execution_count": 4,
   "id": "78148ece-3960-4cf9-89e2-1ba84f4e874c",
   "metadata": {},
   "outputs": [
    {
     "name": "stdout",
     "output_type": "stream",
     "text": [
      "['amaan', 'affan', 'zakwan', 'abaan']\n"
     ]
    }
   ],
   "source": [
    "print(brothers)"
   ]
  },
  {
   "cell_type": "code",
   "execution_count": 6,
   "id": "1225c3b8-32c1-4718-88c7-d66f51afe319",
   "metadata": {},
   "outputs": [
    {
     "name": "stdout",
     "output_type": "stream",
     "text": [
      "affan\n"
     ]
    }
   ],
   "source": [
    "print(brothers[1])"
   ]
  },
  {
   "cell_type": "code",
   "execution_count": 8,
   "id": "1b4d23e0-d0dd-4dc3-af63-c0ec6d388d70",
   "metadata": {},
   "outputs": [
    {
     "name": "stdout",
     "output_type": "stream",
     "text": [
      "Amaan\n"
     ]
    }
   ],
   "source": [
    "print(brothers[0].title())"
   ]
  },
  {
   "cell_type": "code",
   "execution_count": 10,
   "id": "0984c024-4fa6-4a0d-bae7-012fd7684c22",
   "metadata": {},
   "outputs": [],
   "source": [
    "brothers.append('shabbir')"
   ]
  },
  {
   "cell_type": "code",
   "execution_count": 12,
   "id": "bd19f2c7-da14-4543-8836-732ccaedc702",
   "metadata": {},
   "outputs": [
    {
     "name": "stdout",
     "output_type": "stream",
     "text": [
      "['amaan', 'affan', 'zakwan', 'abaan', 'shabbir']\n"
     ]
    }
   ],
   "source": [
    "print(brothers)"
   ]
  },
  {
   "cell_type": "code",
   "execution_count": 14,
   "id": "f07a3a3d-085b-422f-bfa7-21ba05aef3a8",
   "metadata": {},
   "outputs": [
    {
     "data": {
      "text/plain": [
       "list"
      ]
     },
     "execution_count": 14,
     "metadata": {},
     "output_type": "execute_result"
    }
   ],
   "source": [
    "type(brothers)"
   ]
  },
  {
   "cell_type": "code",
   "execution_count": 16,
   "id": "cfa3800f-2df4-4a95-9677-1a93dd87eccd",
   "metadata": {},
   "outputs": [],
   "source": [
    "brothers.insert(2,'masky')"
   ]
  },
  {
   "cell_type": "code",
   "execution_count": 18,
   "id": "853e24f6-fcba-4eec-b3ed-6b378d0299c1",
   "metadata": {},
   "outputs": [
    {
     "name": "stdout",
     "output_type": "stream",
     "text": [
      "['amaan', 'affan', 'masky', 'zakwan', 'abaan', 'shabbir']\n"
     ]
    }
   ],
   "source": [
    "print(brothers)"
   ]
  },
  {
   "cell_type": "code",
   "execution_count": 20,
   "id": "5a90a520-870a-4307-ac2b-002fe492be22",
   "metadata": {},
   "outputs": [
    {
     "name": "stdout",
     "output_type": "stream",
     "text": [
      "Masky\n"
     ]
    }
   ],
   "source": [
    "print(brothers[2].title())"
   ]
  },
  {
   "cell_type": "code",
   "execution_count": 26,
   "id": "d70fb0a1-9afa-4065-828d-780196d7e40a",
   "metadata": {},
   "outputs": [],
   "source": [
    "brothers[4] = 'amrah'"
   ]
  },
  {
   "cell_type": "code",
   "execution_count": 28,
   "id": "b933e4af-54eb-482a-be45-32fdd48e7d88",
   "metadata": {},
   "outputs": [
    {
     "name": "stdout",
     "output_type": "stream",
     "text": [
      "['amaan', 'affan', 'masky', 'zakwan', 'amrah', 'shabbir']\n"
     ]
    }
   ],
   "source": [
    "print(brothers)"
   ]
  },
  {
   "cell_type": "code",
   "execution_count": 30,
   "id": "90eb5f0a-3eab-4059-a11d-f4107b361868",
   "metadata": {},
   "outputs": [],
   "source": [
    "x = brothers.pop()"
   ]
  },
  {
   "cell_type": "code",
   "execution_count": 32,
   "id": "35e2f74e-a0af-46bd-908d-e3065516db89",
   "metadata": {},
   "outputs": [
    {
     "name": "stdout",
     "output_type": "stream",
     "text": [
      "['amaan', 'affan', 'masky', 'zakwan', 'amrah']\n"
     ]
    }
   ],
   "source": [
    "print(brothers)"
   ]
  },
  {
   "cell_type": "code",
   "execution_count": 34,
   "id": "5f99525e-970f-45db-892a-2047d3209adb",
   "metadata": {},
   "outputs": [],
   "source": [
    "y= brothers.pop()"
   ]
  },
  {
   "cell_type": "code",
   "execution_count": 36,
   "id": "3e6d3695-9720-45a3-a182-8a62e3032cf2",
   "metadata": {},
   "outputs": [
    {
     "name": "stdout",
     "output_type": "stream",
     "text": [
      "['amaan', 'affan', 'masky', 'zakwan']\n"
     ]
    }
   ],
   "source": [
    "print(brothers)"
   ]
  },
  {
   "cell_type": "code",
   "execution_count": 38,
   "id": "43395242-3305-4ec3-94a3-33d1c93e7cb9",
   "metadata": {},
   "outputs": [
    {
     "name": "stdout",
     "output_type": "stream",
     "text": [
      "amrah\n"
     ]
    }
   ],
   "source": [
    "print(y)"
   ]
  },
  {
   "cell_type": "code",
   "execution_count": 40,
   "id": "4aed2494-40f9-4114-ba3d-0ddb86749d3c",
   "metadata": {},
   "outputs": [
    {
     "name": "stdout",
     "output_type": "stream",
     "text": [
      "Amrah\n"
     ]
    }
   ],
   "source": [
    "print(y.title())"
   ]
  },
  {
   "cell_type": "code",
   "execution_count": 42,
   "id": "0587efbc-6732-46fc-9311-c115cf5d93a2",
   "metadata": {},
   "outputs": [
    {
     "data": {
      "text/plain": [
       "'shabbirmasky'"
      ]
     },
     "execution_count": 42,
     "metadata": {},
     "output_type": "execute_result"
    }
   ],
   "source": [
    "x + brothers.pop(2)"
   ]
  },
  {
   "cell_type": "code",
   "execution_count": null,
   "id": "20e1bcf9-5d2c-458d-a124-769017d4b0bb",
   "metadata": {},
   "outputs": [],
   "source": [
    "x = "
   ]
  }
 ],
 "metadata": {
  "kernelspec": {
   "display_name": "Python [conda env:base] *",
   "language": "python",
   "name": "conda-base-py"
  },
  "language_info": {
   "codemirror_mode": {
    "name": "ipython",
    "version": 3
   },
   "file_extension": ".py",
   "mimetype": "text/x-python",
   "name": "python",
   "nbconvert_exporter": "python",
   "pygments_lexer": "ipython3",
   "version": "3.12.7"
  }
 },
 "nbformat": 4,
 "nbformat_minor": 5
}
